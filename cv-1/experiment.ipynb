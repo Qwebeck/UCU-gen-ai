{
 "cells": [
  {
   "cell_type": "code",
   "execution_count": 4,
   "metadata": {},
   "outputs": [
    {
     "ename": "SyntaxError",
     "evalue": "invalid syntax (2980977024.py, line 13)",
     "output_type": "error",
     "traceback": [
      "\u001b[0;36m  Cell \u001b[0;32mIn[4], line 13\u001b[0;36m\u001b[0m\n\u001b[0;31m    callbacks =\u001b[0m\n\u001b[0m                ^\u001b[0m\n\u001b[0;31mSyntaxError\u001b[0m\u001b[0;31m:\u001b[0m invalid syntax\n"
     ]
    }
   ],
   "source": [
    "from torchvision.datasets import CIFAR10\n",
    "from pathlib import Path\n",
    "from mini_lightning.trainers import Trainer\n",
    "from mini_lightning.metrics import FID, KLDivergence, InceptionScore, LPIPS, ModeCollapse\n",
    "from mini_lightning.losses import MSELoss, L1Loss, KLDivergenceLoss \n",
    "from mini_lightning.loggers import TensorboardLogger\n",
    "from mini_lightning.callbacks import Checkpoint, EarlyStopping\n",
    "\n",
    "\n",
    "\n",
    "metrics = [FID(), KLDivergence(), InceptionScore(), LPIPS(), ModeCollapse()]\n",
    "losses = [MSELoss(), L1Loss(), KLDivergenceLoss()]\n",
    "callbacks = []\n",
    "\n",
    "logs_path = Path('tensorboard')\n",
    "logger = TensorboardLogger(logs_path)\n",
    "\n",
    "trainer = Trainer(\n",
    "    'test', \n",
    "    max_epochs=10,\n",
    "    metrics=metrics,\n",
    "    losses=losses,\n",
    ")\n"
   ]
  }
 ],
 "metadata": {
  "kernelspec": {
   "display_name": ".venv",
   "language": "python",
   "name": "python3"
  },
  "language_info": {
   "codemirror_mode": {
    "name": "ipython",
    "version": 3
   },
   "file_extension": ".py",
   "mimetype": "text/x-python",
   "name": "python",
   "nbconvert_exporter": "python",
   "pygments_lexer": "ipython3",
   "version": "3.11.9"
  }
 },
 "nbformat": 4,
 "nbformat_minor": 2
}
